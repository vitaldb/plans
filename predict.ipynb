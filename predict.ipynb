{
  "nbformat": 4,
  "nbformat_minor": 0,
  "metadata": {
    "colab": {
      "name": "predict.ipynb",
      "provenance": [],
      "authorship_tag": "ABX9TyM0VqhFeirtSeugc/sw1NHJ",
      "include_colab_link": true
    },
    "kernelspec": {
      "name": "python3",
      "display_name": "Python 3"
    }
  },
  "cells": [
    {
      "cell_type": "markdown",
      "metadata": {
        "id": "view-in-github",
        "colab_type": "text"
      },
      "source": [
        "<a href=\"https://colab.research.google.com/github/vitaldb/plans/blob/main/predict.ipynb\" target=\"_parent\"><img src=\"https://colab.research.google.com/assets/colab-badge.svg\" alt=\"Open In Colab\"/></a>"
      ]
    },
    {
      "cell_type": "markdown",
      "metadata": {
        "id": "EVNIp6lwk5DD"
      },
      "source": [
        "# PlanS Model for predicting hepatocellular carcinoma in hepatitis B patients"
      ]
    },
    {
      "cell_type": "code",
      "metadata": {
        "id": "cHEggysIlr04",
        "outputId": "c38e023d-d7b2-42ab-8e5f-77d0aa62bc44",
        "colab": {
          "base_uri": "https://localhost:8080/"
        }
      },
      "source": [
        "!pip install scikit-survival\n",
        "!pip install scikit-learn==1.1.3\n",
        "# you shoud rerun the runtime when you change the scikit-learn\n",
        "!wget https://github.com/vitaldb/plans/raw/main/model.pkl"
      ],
      "execution_count": 4,
      "outputs": [
        {
          "output_type": "stream",
          "name": "stdout",
          "text": [
            "Looking in indexes: https://pypi.org/simple, https://us-python.pkg.dev/colab-wheels/public/simple/\n",
            "Requirement already satisfied: scikit-survival in /usr/local/lib/python3.8/dist-packages (0.19.0.post1)\n",
            "Requirement already satisfied: pandas>=1.0.5 in /usr/local/lib/python3.8/dist-packages (from scikit-survival) (1.3.5)\n",
            "Requirement already satisfied: numexpr in /usr/local/lib/python3.8/dist-packages (from scikit-survival) (2.8.4)\n",
            "Requirement already satisfied: joblib in /usr/local/lib/python3.8/dist-packages (from scikit-survival) (1.2.0)\n",
            "Requirement already satisfied: scikit-learn<1.2,>=1.1.2 in /usr/local/lib/python3.8/dist-packages (from scikit-survival) (1.1.3)\n",
            "Requirement already satisfied: ecos in /usr/local/lib/python3.8/dist-packages (from scikit-survival) (2.0.12)\n",
            "Requirement already satisfied: numpy in /usr/local/lib/python3.8/dist-packages (from scikit-survival) (1.21.6)\n",
            "Requirement already satisfied: scipy>=1.3.2 in /usr/local/lib/python3.8/dist-packages (from scikit-survival) (1.7.3)\n",
            "Requirement already satisfied: osqp!=0.6.0,!=0.6.1 in /usr/local/lib/python3.8/dist-packages (from scikit-survival) (0.6.2.post0)\n",
            "Requirement already satisfied: qdldl in /usr/local/lib/python3.8/dist-packages (from osqp!=0.6.0,!=0.6.1->scikit-survival) (0.1.5.post2)\n",
            "Requirement already satisfied: pytz>=2017.3 in /usr/local/lib/python3.8/dist-packages (from pandas>=1.0.5->scikit-survival) (2022.7)\n",
            "Requirement already satisfied: python-dateutil>=2.7.3 in /usr/local/lib/python3.8/dist-packages (from pandas>=1.0.5->scikit-survival) (2.8.2)\n",
            "Requirement already satisfied: threadpoolctl>=2.0.0 in /usr/local/lib/python3.8/dist-packages (from scikit-learn<1.2,>=1.1.2->scikit-survival) (3.1.0)\n",
            "Requirement already satisfied: six>=1.5 in /usr/local/lib/python3.8/dist-packages (from python-dateutil>=2.7.3->pandas>=1.0.5->scikit-survival) (1.15.0)\n",
            "Looking in indexes: https://pypi.org/simple, https://us-python.pkg.dev/colab-wheels/public/simple/\n",
            "Requirement already satisfied: scikit-learn==1.1.3 in /usr/local/lib/python3.8/dist-packages (1.1.3)\n",
            "Requirement already satisfied: threadpoolctl>=2.0.0 in /usr/local/lib/python3.8/dist-packages (from scikit-learn==1.1.3) (3.1.0)\n",
            "Requirement already satisfied: scipy>=1.3.2 in /usr/local/lib/python3.8/dist-packages (from scikit-learn==1.1.3) (1.7.3)\n",
            "Requirement already satisfied: joblib>=1.0.0 in /usr/local/lib/python3.8/dist-packages (from scikit-learn==1.1.3) (1.2.0)\n",
            "Requirement already satisfied: numpy>=1.17.3 in /usr/local/lib/python3.8/dist-packages (from scikit-learn==1.1.3) (1.21.6)\n",
            "--2023-01-29 20:59:08--  https://github.com/vitaldb/plans/raw/main/model.pkl\n",
            "Resolving github.com (github.com)... 140.82.113.3\n",
            "Connecting to github.com (github.com)|140.82.113.3|:443... connected.\n",
            "HTTP request sent, awaiting response... 302 Found\n",
            "Location: https://raw.githubusercontent.com/vitaldb/plans/main/model.pkl [following]\n",
            "--2023-01-29 20:59:08--  https://raw.githubusercontent.com/vitaldb/plans/main/model.pkl\n",
            "Resolving raw.githubusercontent.com (raw.githubusercontent.com)... 185.199.108.133, 185.199.109.133, 185.199.110.133, ...\n",
            "Connecting to raw.githubusercontent.com (raw.githubusercontent.com)|185.199.108.133|:443... connected.\n",
            "HTTP request sent, awaiting response... 200 OK\n",
            "Length: 4117320 (3.9M) [application/octet-stream]\n",
            "Saving to: ‘model.pkl.1’\n",
            "\n",
            "model.pkl.1         100%[===================>]   3.93M  --.-KB/s    in 0.05s   \n",
            "\n",
            "2023-01-29 20:59:08 (78.6 MB/s) - ‘model.pkl.1’ saved [4117320/4117320]\n",
            "\n"
          ]
        }
      ]
    },
    {
      "cell_type": "code",
      "metadata": {
        "id": "c8eh2Sx6k21M",
        "outputId": "ae005f06-19f6-4e2d-9a4d-24aeabb965a5",
        "colab": {
          "base_uri": "https://localhost:8080/"
        }
      },
      "source": [
        "from sksurv.ensemble import RandomSurvivalForest\n",
        "import numpy as np\n",
        "import sys\n",
        "import pickle\n",
        "\n",
        "# load model\n",
        "model = pickle.load(open('model.pkl', 'rb'))\n",
        "\n",
        "# sample values\n",
        "male = 0\n",
        "e_t = 1  # entecavir (ETV) -> 0, tenofovir (TDF) -> 1\n",
        "lc = 1  # None for missing value\n",
        "plt = 172\n",
        "tbil = 1.1\n",
        "alt = 122\n",
        "dna = 74279943\n",
        "hbeag = 1\n",
        "\n",
        "x = np.array([male, e_t, lc, plt, tbil, alt, dna, hbeag]).astype(float)\n",
        "x = x[None, ...]\n",
        "\n",
        "y_pred = model.predict(x).flatten()[0]\n",
        "#y_harz = 1 - np.exp(-model.predict_cumulative_hazard_function(x, return_array=True).flatten())\n",
        "y_harz = 1 - model.predict_survival_function(x, return_array=True).flatten()\n",
        "\n",
        "x[:, 1] = 0\n",
        "y_pred_e = model.predict(x).flatten()[0]\n",
        "\n",
        "x[:, 1] = 1\n",
        "y_pred_t = model.predict(x).flatten()[0]\n",
        "\n",
        "print(f'risk score = {y_pred:.3f}')\n",
        "print(f'risk score (entecavir) = {y_pred_e:.3f}')\n",
        "print(f'risk score (tenofovir) = {y_pred_t:.3f}')\n",
        "print(model.event_times_)\n",
        "print(y_harz)"
      ],
      "execution_count": 4,
      "outputs": [
        {
          "output_type": "stream",
          "name": "stdout",
          "text": [
            "risk score = 9.070\n",
            "risk score (entecavir) = 9.400\n",
            "risk score (tenofovir) = 9.070\n",
            "[ 12.  13.  14.  15.  16.  17.  18.  19.  20.  21.  22.  23.  24.  25.\n",
            "  26.  27.  28.  29.  30.  31.  32.  33.  34.  35.  36.  37.  38.  39.\n",
            "  40.  41.  42.  43.  44.  45.  46.  47.  48.  49.  50.  51.  52.  53.\n",
            "  54.  55.  56.  57.  58.  59.  60.  61.  62.  63.  64.  65.  66.  67.\n",
            "  68.  69.  70.  71.  72.  73.  74.  75.  76.  77.  78.  79.  80.  81.\n",
            "  82.  83.  84.  85.  86.  87.  88.  89.  90.  91.  92.  93.  94.  96.\n",
            "  97.  98.  99. 100. 101. 102. 103. 104. 105. 107. 112. 113. 114. 116.\n",
            " 118. 120. 127. 129. 131. 132. 133. 135. 148.]\n",
            "[0.00218543 0.00516917 0.00669045 0.00870766 0.00906254 0.01166125\n",
            " 0.01384024 0.01490682 0.01818131 0.02007348 0.02101176 0.02258554\n",
            " 0.02389719 0.02494386 0.02532699 0.02722447 0.02957614 0.02987612\n",
            " 0.0316674  0.0329232  0.03424899 0.03481831 0.0356089  0.03626656\n",
            " 0.03754921 0.03879158 0.03933993 0.04033991 0.04232427 0.04375772\n",
            " 0.04499164 0.04753894 0.05110997 0.05128181 0.05343905 0.05603347\n",
            " 0.05807737 0.06017584 0.06150085 0.06365199 0.06438629 0.06543051\n",
            " 0.06564571 0.06599756 0.06687412 0.06807313 0.06880697 0.06938681\n",
            " 0.07233356 0.07326841 0.0735892  0.07537825 0.07677475 0.0776088\n",
            " 0.07831652 0.07959518 0.08255556 0.0860537  0.08644556 0.08864771\n",
            " 0.09179247 0.09273891 0.09382695 0.09645055 0.09818725 0.09971902\n",
            " 0.10094769 0.10129481 0.10332716 0.10348315 0.10437227 0.10508474\n",
            " 0.10612454 0.10612454 0.10758777 0.10851051 0.11089421 0.11144908\n",
            " 0.11197785 0.11484035 0.1156157  0.1156157  0.11582946 0.12041629\n",
            " 0.12091849 0.12122827 0.12513676 0.12562109 0.12562109 0.12608644\n",
            " 0.12629827 0.12654709 0.12779602 0.12779602 0.12779602 0.12779602\n",
            " 0.12779602 0.12857214 0.12879993 0.13555215 0.15969114 0.16915364\n",
            " 0.17344897 0.17344897 0.1768531  0.18187345 0.18187345]\n"
          ]
        }
      ]
    }
  ]
}