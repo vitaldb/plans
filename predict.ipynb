{
  "nbformat": 4,
  "nbformat_minor": 0,
  "metadata": {
    "colab": {
      "name": "predict.ipynb",
      "provenance": [],
      "collapsed_sections": [],
      "authorship_tag": "ABX9TyNySx6v/BPBLw13wIWSAKFq",
      "include_colab_link": true
    },
    "kernelspec": {
      "name": "python3",
      "display_name": "Python 3"
    }
  },
  "cells": [
    {
      "cell_type": "markdown",
      "metadata": {
        "id": "view-in-github",
        "colab_type": "text"
      },
      "source": [
        "<a href=\"https://colab.research.google.com/github/vitaldb/plans/blob/main/predict.ipynb\" target=\"_parent\"><img src=\"https://colab.research.google.com/assets/colab-badge.svg\" alt=\"Open In Colab\"/></a>"
      ]
    },
    {
      "cell_type": "markdown",
      "metadata": {
        "id": "EVNIp6lwk5DD"
      },
      "source": [
        "# PlanS Model for predicting hepatocellular carcinoma in hepatitis B patients"
      ]
    },
    {
      "cell_type": "code",
      "metadata": {
        "id": "cHEggysIlr04",
        "outputId": "135de277-0d23-486a-edf0-f2e1b1f4c1b1",
        "colab": {
          "base_uri": "https://localhost:8080/"
        }
      },
      "source": [
        "!pip install scikit-survival\n",
        "!wget https://github.com/vitaldb/plans/raw/main/model.pkl"
      ],
      "execution_count": 2,
      "outputs": [
        {
          "output_type": "stream",
          "name": "stdout",
          "text": [
            "Looking in indexes: https://pypi.org/simple, https://us-python.pkg.dev/colab-wheels/public/simple/\n",
            "Collecting scikit-survival\n",
            "  Downloading scikit_survival-0.17.2-cp37-cp37m-manylinux_2_17_x86_64.manylinux2014_x86_64.whl (3.1 MB)\n",
            "\u001b[K     |████████████████████████████████| 3.1 MB 5.3 MB/s \n",
            "\u001b[?25hRequirement already satisfied: joblib in /usr/local/lib/python3.7/dist-packages (from scikit-survival) (1.1.0)\n",
            "Requirement already satisfied: pandas>=0.25 in /usr/local/lib/python3.7/dist-packages (from scikit-survival) (1.3.5)\n",
            "Requirement already satisfied: ecos in /usr/local/lib/python3.7/dist-packages (from scikit-survival) (2.0.10)\n",
            "Requirement already satisfied: numpy in /usr/local/lib/python3.7/dist-packages (from scikit-survival) (1.21.6)\n",
            "Requirement already satisfied: numexpr in /usr/local/lib/python3.7/dist-packages (from scikit-survival) (2.8.3)\n",
            "Requirement already satisfied: osqp!=0.6.0,!=0.6.1 in /usr/local/lib/python3.7/dist-packages (from scikit-survival) (0.6.2.post0)\n",
            "Requirement already satisfied: scipy!=1.3.0,>=1.0 in /usr/local/lib/python3.7/dist-packages (from scikit-survival) (1.7.3)\n",
            "Requirement already satisfied: scikit-learn<1.1,>=1.0.0 in /usr/local/lib/python3.7/dist-packages (from scikit-survival) (1.0.2)\n",
            "Requirement already satisfied: qdldl in /usr/local/lib/python3.7/dist-packages (from osqp!=0.6.0,!=0.6.1->scikit-survival) (0.1.5.post2)\n",
            "Requirement already satisfied: pytz>=2017.3 in /usr/local/lib/python3.7/dist-packages (from pandas>=0.25->scikit-survival) (2022.1)\n",
            "Requirement already satisfied: python-dateutil>=2.7.3 in /usr/local/lib/python3.7/dist-packages (from pandas>=0.25->scikit-survival) (2.8.2)\n",
            "Requirement already satisfied: six>=1.5 in /usr/local/lib/python3.7/dist-packages (from python-dateutil>=2.7.3->pandas>=0.25->scikit-survival) (1.15.0)\n",
            "Requirement already satisfied: threadpoolctl>=2.0.0 in /usr/local/lib/python3.7/dist-packages (from scikit-learn<1.1,>=1.0.0->scikit-survival) (3.1.0)\n",
            "Requirement already satisfied: packaging in /usr/local/lib/python3.7/dist-packages (from numexpr->scikit-survival) (21.3)\n",
            "Requirement already satisfied: pyparsing!=3.0.5,>=2.0.2 in /usr/local/lib/python3.7/dist-packages (from packaging->numexpr->scikit-survival) (3.0.9)\n",
            "Installing collected packages: scikit-survival\n",
            "Successfully installed scikit-survival-0.17.2\n",
            "--2022-07-22 04:52:10--  https://github.com/vitaldb/plans/raw/main/model.pkl\n",
            "Resolving github.com (github.com)... 140.82.113.4\n",
            "Connecting to github.com (github.com)|140.82.113.4|:443... connected.\n",
            "HTTP request sent, awaiting response... 302 Found\n",
            "Location: https://raw.githubusercontent.com/vitaldb/plans/main/model.pkl [following]\n",
            "--2022-07-22 04:52:10--  https://raw.githubusercontent.com/vitaldb/plans/main/model.pkl\n",
            "Resolving raw.githubusercontent.com (raw.githubusercontent.com)... 185.199.110.133, 185.199.108.133, 185.199.111.133, ...\n",
            "Connecting to raw.githubusercontent.com (raw.githubusercontent.com)|185.199.110.133|:443... connected.\n",
            "HTTP request sent, awaiting response... 200 OK\n",
            "Length: 1409741 (1.3M) [application/octet-stream]\n",
            "Saving to: ‘model.pkl’\n",
            "\n",
            "model.pkl           100%[===================>]   1.34M  --.-KB/s    in 0.05s   \n",
            "\n",
            "2022-07-22 04:52:10 (24.6 MB/s) - ‘model.pkl’ saved [1409741/1409741]\n",
            "\n"
          ]
        }
      ]
    },
    {
      "cell_type": "code",
      "metadata": {
        "id": "c8eh2Sx6k21M"
      },
      "source": [
        "from sksurv.ensemble import RandomSurvivalForest\n",
        "import numpy as np\n",
        "import sys\n",
        "import pickle\n",
        "\n",
        "# load model\n",
        "model = pickle.load(open('model.pkl', 'rb'))\n",
        "\n",
        "# sample values\n",
        "male = 0\n",
        "e_t = 1  # entecavir (ETV) -> 0, tenofovir (TDF) -> 1\n",
        "lc = 1  # None for missing value\n",
        "plt = 172\n",
        "tbil = 1.1\n",
        "alt = 122\n",
        "dna = 74279943\n",
        "hbeag = 1\n",
        "\n",
        "x = np.array([male, e_t, lc, plt, tbil, alt, dna, hbeag]).astype(float)\n",
        "x = x[None, ...]\n",
        "\n",
        "y_pred = model.predict(x).flatten()[0]\n",
        "y_harz = model.predict_cumulative_hazard_function(x, return_array=True).flatten()\n",
        "\n",
        "x[:, 1] = 0\n",
        "y_pred_e = model.predict(x).flatten()[0]\n",
        "\n",
        "x[:, 1] = 1\n",
        "y_pred_t = model.predict(x).flatten()[0]"
      ],
      "execution_count": 11,
      "outputs": []
    },
    {
      "cell_type": "code",
      "source": [
        "print(f'risk score = {y_pred:.3f}')\n",
        "print(f'risk score (entecavir) = {y_pred_e:.3f}')\n",
        "print(f'risk score (tenofovir) = {y_pred_t:.3f}')\n",
        "print(model.event_times_)\n",
        "print(y_harz)"
      ],
      "metadata": {
        "id": "N_LxrYNJQRhU",
        "outputId": "dfdc935f-2023-4c3d-c230-a42ec286d2c6",
        "colab": {
          "base_uri": "https://localhost:8080/"
        }
      },
      "execution_count": 12,
      "outputs": [
        {
          "output_type": "stream",
          "name": "stdout",
          "text": [
            "risk score = 5.556\n",
            "risk score (entecavir) = 5.832\n",
            "risk score (tenofovir) = 5.556\n",
            "[ 12.  14.  15.  16.  18.  19.  20.  21.  22.  23.  24.  25.  26.  28.\n",
            "  29.  30.  31.  32.  33.  34.  35.  36.  37.  40.  42.  43.  44.  45.\n",
            "  47.  48.  49.  51.  52.  53.  54.  55.  56.  58.  59.  60.  61.  63.\n",
            "  64.  65.  67.  69.  70.  71.  73.  74.  75.  76.  77.  78.  79.  82.\n",
            "  83.  84.  85.  87.  88.  91.  92.  94.  97. 113. 114. 118. 127. 131.\n",
            " 133.]\n",
            "[0.00039647 0.00188133 0.00339892 0.00430027 0.0084794  0.00861007\n",
            " 0.01330625 0.01379799 0.01418202 0.01794592 0.01811267 0.0196442\n",
            " 0.02000561 0.02264777 0.02355478 0.02463591 0.02986037 0.03420457\n",
            " 0.03731337 0.03962576 0.03980364 0.04052809 0.04474592 0.0463422\n",
            " 0.04656117 0.04881494 0.0498603  0.05075924 0.05272361 0.05626422\n",
            " 0.05797336 0.06081432 0.06110282 0.06159321 0.06195993 0.06307524\n",
            " 0.0631591  0.07021243 0.07156848 0.07178372 0.07358847 0.08243208\n",
            " 0.08577    0.08758538 0.089519   0.09496836 0.09882857 0.1064198\n",
            " 0.11008655 0.11185033 0.11415496 0.11817674 0.12045727 0.12583347\n",
            " 0.12849278 0.12939103 0.13714861 0.13744665 0.13809231 0.14079844\n",
            " 0.14245588 0.15113059 0.15290115 0.15368755 0.15421462 0.15589109\n",
            " 0.15589109 0.15951384 0.1909173  0.20197021 0.23054164]\n"
          ]
        }
      ]
    }
  ]
}