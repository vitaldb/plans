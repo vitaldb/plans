{
  "nbformat": 4,
  "nbformat_minor": 0,
  "metadata": {
    "colab": {
      "name": "predict.ipynb",
      "provenance": [],
      "authorship_tag": "ABX9TyP87PkPwgn3qFrWWNsQn68G",
      "include_colab_link": true
    },
    "kernelspec": {
      "name": "python3",
      "display_name": "Python 3"
    }
  },
  "cells": [
    {
      "cell_type": "markdown",
      "metadata": {
        "id": "view-in-github",
        "colab_type": "text"
      },
      "source": [
        "<a href=\"https://colab.research.google.com/github/vitaldb/plans/blob/main/predict.ipynb\" target=\"_parent\"><img src=\"https://colab.research.google.com/assets/colab-badge.svg\" alt=\"Open In Colab\"/></a>"
      ]
    },
    {
      "cell_type": "markdown",
      "metadata": {
        "id": "EVNIp6lwk5DD"
      },
      "source": [
        "# PlanS Model for predicting hepatocellular carcinoma in hepatitis B patients"
      ]
    },
    {
      "cell_type": "code",
      "metadata": {
        "id": "cHEggysIlr04",
        "outputId": "0c171075-7847-4930-e7a0-bf498dbb9ac0",
        "colab": {
          "base_uri": "https://localhost:8080/"
        }
      },
      "source": [
        "!pip install scikit-learn==1.1.3\n",
        "!pip install scikit-survival\n",
        "!wget https://github.com/vitaldb/plans/raw/main/model.pkl"
      ],
      "execution_count": 2,
      "outputs": [
        {
          "output_type": "stream",
          "name": "stdout",
          "text": [
            "Looking in indexes: https://pypi.org/simple, https://us-python.pkg.dev/colab-wheels/public/simple/\n",
            "Requirement already satisfied: scikit-learn==1.1.3 in /usr/local/lib/python3.8/dist-packages (1.1.3)\n",
            "Requirement already satisfied: joblib>=1.0.0 in /usr/local/lib/python3.8/dist-packages (from scikit-learn==1.1.3) (1.2.0)\n",
            "Requirement already satisfied: numpy>=1.17.3 in /usr/local/lib/python3.8/dist-packages (from scikit-learn==1.1.3) (1.21.6)\n",
            "Requirement already satisfied: scipy>=1.3.2 in /usr/local/lib/python3.8/dist-packages (from scikit-learn==1.1.3) (1.7.3)\n",
            "Requirement already satisfied: threadpoolctl>=2.0.0 in /usr/local/lib/python3.8/dist-packages (from scikit-learn==1.1.3) (3.1.0)\n",
            "Looking in indexes: https://pypi.org/simple, https://us-python.pkg.dev/colab-wheels/public/simple/\n",
            "Requirement already satisfied: scikit-survival in /usr/local/lib/python3.8/dist-packages (0.19.0.post1)\n",
            "Requirement already satisfied: ecos in /usr/local/lib/python3.8/dist-packages (from scikit-survival) (2.0.12)\n",
            "Requirement already satisfied: scikit-learn<1.2,>=1.1.2 in /usr/local/lib/python3.8/dist-packages (from scikit-survival) (1.1.3)\n",
            "Requirement already satisfied: joblib in /usr/local/lib/python3.8/dist-packages (from scikit-survival) (1.2.0)\n",
            "Requirement already satisfied: osqp!=0.6.0,!=0.6.1 in /usr/local/lib/python3.8/dist-packages (from scikit-survival) (0.6.2.post0)\n",
            "Requirement already satisfied: numexpr in /usr/local/lib/python3.8/dist-packages (from scikit-survival) (2.8.4)\n",
            "Requirement already satisfied: numpy in /usr/local/lib/python3.8/dist-packages (from scikit-survival) (1.21.6)\n",
            "Requirement already satisfied: scipy>=1.3.2 in /usr/local/lib/python3.8/dist-packages (from scikit-survival) (1.7.3)\n",
            "Requirement already satisfied: pandas>=1.0.5 in /usr/local/lib/python3.8/dist-packages (from scikit-survival) (1.3.5)\n",
            "Requirement already satisfied: qdldl in /usr/local/lib/python3.8/dist-packages (from osqp!=0.6.0,!=0.6.1->scikit-survival) (0.1.5.post2)\n",
            "Requirement already satisfied: pytz>=2017.3 in /usr/local/lib/python3.8/dist-packages (from pandas>=1.0.5->scikit-survival) (2022.7)\n",
            "Requirement already satisfied: python-dateutil>=2.7.3 in /usr/local/lib/python3.8/dist-packages (from pandas>=1.0.5->scikit-survival) (2.8.2)\n",
            "Requirement already satisfied: threadpoolctl>=2.0.0 in /usr/local/lib/python3.8/dist-packages (from scikit-learn<1.2,>=1.1.2->scikit-survival) (3.1.0)\n",
            "Requirement already satisfied: six>=1.5 in /usr/local/lib/python3.8/dist-packages (from python-dateutil>=2.7.3->pandas>=1.0.5->scikit-survival) (1.15.0)\n",
            "--2023-01-29 17:44:39--  https://github.com/vitaldb/plans/raw/main/model.pkl\n",
            "Resolving github.com (github.com)... 140.82.113.4\n",
            "Connecting to github.com (github.com)|140.82.113.4|:443... connected.\n",
            "HTTP request sent, awaiting response... 302 Found\n",
            "Location: https://raw.githubusercontent.com/vitaldb/plans/main/model.pkl [following]\n",
            "--2023-01-29 17:44:39--  https://raw.githubusercontent.com/vitaldb/plans/main/model.pkl\n",
            "Resolving raw.githubusercontent.com (raw.githubusercontent.com)... 185.199.108.133, 185.199.109.133, 185.199.110.133, ...\n",
            "Connecting to raw.githubusercontent.com (raw.githubusercontent.com)|185.199.108.133|:443... connected.\n",
            "HTTP request sent, awaiting response... 200 OK\n",
            "Length: 4117320 (3.9M) [application/octet-stream]\n",
            "Saving to: ‘model.pkl.2’\n",
            "\n",
            "model.pkl.2         100%[===================>]   3.93M  --.-KB/s    in 0.02s   \n",
            "\n",
            "2023-01-29 17:44:39 (219 MB/s) - ‘model.pkl.2’ saved [4117320/4117320]\n",
            "\n"
          ]
        }
      ]
    },
    {
      "cell_type": "code",
      "metadata": {
        "id": "c8eh2Sx6k21M",
        "outputId": "6afda267-4e4b-4958-c163-3b70dfe2ef71",
        "colab": {
          "base_uri": "https://localhost:8080/"
        }
      },
      "source": [
        "from sksurv.ensemble import RandomSurvivalForest\n",
        "import numpy as np\n",
        "import sys\n",
        "import pickle\n",
        "\n",
        "# load model\n",
        "model = pickle.load(open('model.pkl', 'rb'))\n",
        "\n",
        "# sample values\n",
        "male = 0\n",
        "e_t = 1  # entecavir (ETV) -> 0, tenofovir (TDF) -> 1\n",
        "lc = 1  # None for missing value\n",
        "plt = 172\n",
        "tbil = 1.1\n",
        "alt = 122\n",
        "dna = 74279943\n",
        "hbeag = 1\n",
        "\n",
        "x = np.array([male, e_t, lc, plt, tbil, alt, dna, hbeag]).astype(float)\n",
        "x = x[None, ...]\n",
        "\n",
        "y_pred = model.predict(x).flatten()[0]\n",
        "y_harz = 1 - model.predict_survival_function(x, return_array=True).flatten()\n",
        "\n",
        "x[:, 1] = 0\n",
        "y_pred_e = model.predict(x).flatten()[0]\n",
        "\n",
        "x[:, 1] = 1\n",
        "y_pred_t = model.predict(x).flatten()[0]\n",
        "\n",
        "print(f'risk score = {y_pred:.3f}')\n",
        "print(f'risk score (entecavir) = {y_pred_e:.3f}')\n",
        "print(f'risk score (tenofovir) = {y_pred_t:.3f}')\n",
        "print(model.event_times_)\n",
        "print(y_harz)"
      ],
      "execution_count": 5,
      "outputs": [
        {
          "output_type": "stream",
          "name": "stdout",
          "text": [
            "risk score = 9.070\n",
            "risk score (entecavir) = 9.400\n",
            "risk score (tenofovir) = 9.070\n",
            "[ 12.  13.  14.  15.  16.  17.  18.  19.  20.  21.  22.  23.  24.  25.\n",
            "  26.  27.  28.  29.  30.  31.  32.  33.  34.  35.  36.  37.  38.  39.\n",
            "  40.  41.  42.  43.  44.  45.  46.  47.  48.  49.  50.  51.  52.  53.\n",
            "  54.  55.  56.  57.  58.  59.  60.  61.  62.  63.  64.  65.  66.  67.\n",
            "  68.  69.  70.  71.  72.  73.  74.  75.  76.  77.  78.  79.  80.  81.\n",
            "  82.  83.  84.  85.  86.  87.  88.  89.  90.  91.  92.  93.  94.  96.\n",
            "  97.  98.  99. 100. 101. 102. 103. 104. 105. 107. 112. 113. 114. 116.\n",
            " 118. 120. 127. 129. 131. 132. 133. 135. 148.]\n",
            "[0.00218782 0.00517285 0.0066933  0.00871022 0.00906271 0.011664\n",
            " 0.01383949 0.01490512 0.01817112 0.02006301 0.02099782 0.0225609\n",
            " 0.02386307 0.02489127 0.02526941 0.02714035 0.02946329 0.02975815\n",
            " 0.03152193 0.03276408 0.03406524 0.03463525 0.03540657 0.03604776\n",
            " 0.03731364 0.03853516 0.03906297 0.04005766 0.04200235 0.04343221\n",
            " 0.04464765 0.0471581  0.0506898  0.05085615 0.05301622 0.05558188\n",
            " 0.0575785  0.05963568 0.06093594 0.06305397 0.06377761 0.06479048\n",
            " 0.06500318 0.06534764 0.06620399 0.06736883 0.06807755 0.068653\n",
            " 0.07157114 0.07249033 0.07279774 0.0745176  0.07585506 0.07664368\n",
            " 0.07733637 0.07859703 0.08149388 0.0849233  0.08529455 0.08739681\n",
            " 0.0904839  0.0913573  0.09240208 0.09492659 0.09659291 0.09805216\n",
            " 0.09927082 0.09959073 0.10157904 0.10174422 0.1025769  0.10323233\n",
            " 0.10421273 0.10421273 0.10558319 0.10643692 0.10872972 0.10927496\n",
            " 0.10976448 0.11263094 0.11339352 0.11339352 0.1135816  0.11805247\n",
            " 0.11852993 0.1188178  0.12262974 0.12309916 0.12309916 0.1236094\n",
            " 0.1237883  0.12401315 0.12526941 0.12526941 0.12526941 0.12526941\n",
            " 0.12526941 0.12601916 0.12623094 0.13220626 0.15416936 0.16303237\n",
            " 0.1672757  0.1672757  0.17011642 0.17600488 0.17600488]\n"
          ]
        }
      ]
    }
  ]
}