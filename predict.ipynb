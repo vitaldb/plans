{
  "nbformat": 4,
  "nbformat_minor": 0,
  "metadata": {
    "colab": {
      "name": "predict.ipynb",
      "provenance": [],
      "authorship_tag": "ABX9TyO+ZEVXS6qbduqr/2/O0UnF",
      "include_colab_link": true
    },
    "kernelspec": {
      "name": "python3",
      "display_name": "Python 3"
    }
  },
  "cells": [
    {
      "cell_type": "markdown",
      "metadata": {
        "id": "view-in-github",
        "colab_type": "text"
      },
      "source": [
        "<a href=\"https://colab.research.google.com/github/vitaldb/plans/blob/main/predict.ipynb\" target=\"_parent\"><img src=\"https://colab.research.google.com/assets/colab-badge.svg\" alt=\"Open In Colab\"/></a>"
      ]
    },
    {
      "cell_type": "markdown",
      "metadata": {
        "id": "EVNIp6lwk5DD"
      },
      "source": [
        "# PlanS Model for predicting hepatocellular carcinoma in hepatitis B patients"
      ]
    },
    {
      "cell_type": "code",
      "metadata": {
        "id": "cHEggysIlr04",
        "outputId": "3202f7ac-edba-405d-c846-ff9ba418362d",
        "colab": {
          "base_uri": "https://localhost:8080/"
        }
      },
      "source": [
        "!pip install scikit-survival\n",
        "!pip install scikit-learn==1.1.3\n",
        "# Rerunning the runtime required because we change the scikit-learn\n",
        "!wget https://github.com/vitaldb/plans/raw/main/model.pkl"
      ],
      "execution_count": 2,
      "outputs": [
        {
          "output_type": "stream",
          "name": "stdout",
          "text": [
            "Looking in indexes: https://pypi.org/simple, https://us-python.pkg.dev/colab-wheels/public/simple/\n",
            "Requirement already satisfied: scikit-survival in /usr/local/lib/python3.8/dist-packages (0.19.0.post1)\n",
            "Requirement already satisfied: numpy in /usr/local/lib/python3.8/dist-packages (from scikit-survival) (1.21.6)\n",
            "Requirement already satisfied: ecos in /usr/local/lib/python3.8/dist-packages (from scikit-survival) (2.0.12)\n",
            "Requirement already satisfied: joblib in /usr/local/lib/python3.8/dist-packages (from scikit-survival) (1.2.0)\n",
            "Requirement already satisfied: scipy>=1.3.2 in /usr/local/lib/python3.8/dist-packages (from scikit-survival) (1.7.3)\n",
            "Requirement already satisfied: scikit-learn<1.2,>=1.1.2 in /usr/local/lib/python3.8/dist-packages (from scikit-survival) (1.1.3)\n",
            "Requirement already satisfied: numexpr in /usr/local/lib/python3.8/dist-packages (from scikit-survival) (2.8.4)\n",
            "Requirement already satisfied: osqp!=0.6.0,!=0.6.1 in /usr/local/lib/python3.8/dist-packages (from scikit-survival) (0.6.2.post0)\n",
            "Requirement already satisfied: pandas>=1.0.5 in /usr/local/lib/python3.8/dist-packages (from scikit-survival) (1.3.5)\n",
            "Requirement already satisfied: qdldl in /usr/local/lib/python3.8/dist-packages (from osqp!=0.6.0,!=0.6.1->scikit-survival) (0.1.5.post2)\n",
            "Requirement already satisfied: pytz>=2017.3 in /usr/local/lib/python3.8/dist-packages (from pandas>=1.0.5->scikit-survival) (2022.7)\n",
            "Requirement already satisfied: python-dateutil>=2.7.3 in /usr/local/lib/python3.8/dist-packages (from pandas>=1.0.5->scikit-survival) (2.8.2)\n",
            "Requirement already satisfied: threadpoolctl>=2.0.0 in /usr/local/lib/python3.8/dist-packages (from scikit-learn<1.2,>=1.1.2->scikit-survival) (3.1.0)\n",
            "Requirement already satisfied: six>=1.5 in /usr/local/lib/python3.8/dist-packages (from python-dateutil>=2.7.3->pandas>=1.0.5->scikit-survival) (1.15.0)\n",
            "Looking in indexes: https://pypi.org/simple, https://us-python.pkg.dev/colab-wheels/public/simple/\n",
            "Requirement already satisfied: scikit-learn==1.1.3 in /usr/local/lib/python3.8/dist-packages (1.1.3)\n",
            "Requirement already satisfied: numpy>=1.17.3 in /usr/local/lib/python3.8/dist-packages (from scikit-learn==1.1.3) (1.21.6)\n",
            "Requirement already satisfied: threadpoolctl>=2.0.0 in /usr/local/lib/python3.8/dist-packages (from scikit-learn==1.1.3) (3.1.0)\n",
            "Requirement already satisfied: joblib>=1.0.0 in /usr/local/lib/python3.8/dist-packages (from scikit-learn==1.1.3) (1.2.0)\n",
            "Requirement already satisfied: scipy>=1.3.2 in /usr/local/lib/python3.8/dist-packages (from scikit-learn==1.1.3) (1.7.3)\n",
            "--2023-01-30 01:32:59--  https://github.com/vitaldb/plans/raw/main/model.pkl\n",
            "Resolving github.com (github.com)... 140.82.112.4\n",
            "Connecting to github.com (github.com)|140.82.112.4|:443... connected.\n",
            "HTTP request sent, awaiting response... 302 Found\n",
            "Location: https://raw.githubusercontent.com/vitaldb/plans/main/model.pkl [following]\n",
            "--2023-01-30 01:32:59--  https://raw.githubusercontent.com/vitaldb/plans/main/model.pkl\n",
            "Resolving raw.githubusercontent.com (raw.githubusercontent.com)... 185.199.108.133, 185.199.109.133, 185.199.110.133, ...\n",
            "Connecting to raw.githubusercontent.com (raw.githubusercontent.com)|185.199.108.133|:443... connected.\n",
            "HTTP request sent, awaiting response... 200 OK\n",
            "Length: 4117320 (3.9M) [application/octet-stream]\n",
            "Saving to: ‘model.pkl.1’\n",
            "\n",
            "model.pkl.1         100%[===================>]   3.93M  --.-KB/s    in 0.07s   \n",
            "\n",
            "2023-01-30 01:32:59 (54.9 MB/s) - ‘model.pkl.1’ saved [4117320/4117320]\n",
            "\n"
          ]
        }
      ]
    },
    {
      "cell_type": "code",
      "metadata": {
        "id": "c8eh2Sx6k21M",
        "outputId": "bd064620-1492-4f74-ee04-17461ceabd11",
        "colab": {
          "base_uri": "https://localhost:8080/"
        }
      },
      "source": [
        "from sksurv.ensemble import RandomSurvivalForest\n",
        "import pandas as pd\n",
        "import numpy as np\n",
        "import sys\n",
        "import pickle\n",
        "\n",
        "# load model\n",
        "model = pickle.load(open('model.pkl', 'rb'))\n",
        "\n",
        "# sample values\n",
        "male = 0\n",
        "e_t = 1  # entecavir (ETV) -> 0, tenofovir (TDF) -> 1\n",
        "lc = 1  # None for missing value\n",
        "plt = 172  # 1000mm3\n",
        "tbil = 1.1  # mg/dL\n",
        "alt = 122  # U/L\n",
        "dna = 74279943  # IU/mL\n",
        "hbeag = 1  # 0 or 1\n",
        "\n",
        "x = np.array([male, e_t, lc, plt, tbil, alt, dna, hbeag]).astype(float)\n",
        "x = x[None, ...]\n",
        "\n",
        "y_pred = model.predict(x).flatten()[0]\n",
        "y_risk = (1 - np.exp(-model.predict_cumulative_hazard_function(x, return_array=True).flatten())) * 100\n",
        "\n",
        "x[:, 1] = 0\n",
        "y_pred_e = model.predict(x).flatten()[0]\n",
        "y_risk_e = (1 - np.exp(-model.predict_cumulative_hazard_function(x, return_array=True).flatten())) * 100\n",
        "\n",
        "x[:, 1] = 1\n",
        "y_pred_t = model.predict(x).flatten()[0]\n",
        "y_risk_t = (1 - np.exp(-model.predict_cumulative_hazard_function(x, return_array=True).flatten())) * 100\n",
        "\n",
        "# risk score = sum of the predict cumulative hazard\n",
        "print(f'risk score = {y_pred:.3f}')\n",
        "print(f'risk score (entecavir) = {y_pred_e:.3f}')\n",
        "print(f'risk score (tenofovir) = {y_pred_t:.3f}')\n",
        "print()\n",
        "\n",
        "# event probability = 1 - survival probability\n",
        "df = pd.DataFrame({'time(month)':model.event_times_, 'event(%)':y_risk, 'entecavir event(%)':y_risk_t, 'tenofovir event(%)': y_risk_e})\n",
        "print(df)"
      ],
      "execution_count": 5,
      "outputs": [
        {
          "output_type": "stream",
          "name": "stdout",
          "text": [
            "risk score = 9.070\n",
            "risk score (entecavir) = 9.400\n",
            "risk score (tenofovir) = 9.070\n",
            "\n",
            "     time(month)   event(%)  entecavir event(%)  tenofovir event(%)\n",
            "0           12.0   0.218543            0.218543            0.202561\n",
            "1           13.0   0.516917            0.516917            0.493732\n",
            "2           14.0   0.669045            0.669045            0.690609\n",
            "3           15.0   0.870766            0.870766            0.929286\n",
            "4           16.0   0.906254            0.906254            0.987972\n",
            "..           ...        ...                 ...                 ...\n",
            "102        131.0  17.344897           17.344897           18.701208\n",
            "103        132.0  17.344897           17.344897           18.701208\n",
            "104        133.0  17.685310           17.685310           19.215756\n",
            "105        135.0  18.187345           18.187345           19.708456\n",
            "106        148.0  18.187345           18.187345           20.064516\n",
            "\n",
            "[107 rows x 4 columns]\n"
          ]
        }
      ]
    }
  ]
}